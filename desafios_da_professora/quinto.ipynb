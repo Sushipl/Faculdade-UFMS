{
 "cells": [
  {
   "attachments": {},
   "cell_type": "markdown",
   "metadata": {},
   "source": [
    "1."
   ]
  },
  {
   "cell_type": "code",
   "execution_count": 1,
   "metadata": {},
   "outputs": [
    {
     "name": "stdout",
     "output_type": "stream",
     "text": [
      "8\n",
      "1\n",
      "0\n",
      "5\n",
      "-2\n",
      "100\n",
      "7\n"
     ]
    }
   ],
   "source": [
    "A=[1, 0, 5, -2, -5, 7]\n",
    "sum = A[0] + A[1] + A[5]\n",
    "A[4] = 100\n",
    "\n",
    "print(sum)\n",
    "for n in A:\n",
    "    print(n)"
   ]
  },
  {
   "attachments": {},
   "cell_type": "markdown",
   "metadata": {},
   "source": [
    "2."
   ]
  },
  {
   "cell_type": "code",
   "execution_count": 3,
   "metadata": {},
   "outputs": [
    {
     "name": "stdout",
     "output_type": "stream",
     "text": [
      "3 6 2 7 9 3\n"
     ]
    }
   ],
   "source": [
    "A=[]\n",
    "\n",
    "for i in range(6):\n",
    "    A.append(int(input()))\n",
    "\n",
    "print(*A)"
   ]
  },
  {
   "attachments": {},
   "cell_type": "markdown",
   "metadata": {},
   "source": [
    "3."
   ]
  },
  {
   "cell_type": "code",
   "execution_count": 5,
   "metadata": {},
   "outputs": [
    {
     "name": "stdout",
     "output_type": "stream",
     "text": [
      "2.0 4.0 6.0 6.0 4.0 54.0 8.0 5.0 43.0 7.0\n",
      "4.0 16.0 36.0 36.0 16.0 2916.0 64.0 25.0 1849.0 49.0\n"
     ]
    }
   ],
   "source": [
    "A=[]\n",
    "for n in range(10):\n",
    "    A.append(float(input()))\n",
    "NA=[]\n",
    "for n in A:\n",
    "    NA.append(n**2)\n",
    "print(*A)\n",
    "print(*NA)"
   ]
  },
  {
   "attachments": {},
   "cell_type": "markdown",
   "metadata": {},
   "source": [
    "4."
   ]
  },
  {
   "cell_type": "code",
   "execution_count": 6,
   "metadata": {},
   "outputs": [
    {
     "name": "stdout",
     "output_type": "stream",
     "text": [
      "8\n"
     ]
    }
   ],
   "source": [
    "A=[]\n",
    "for i in range(8):\n",
    "    A.append(int(input()))\n",
    "x = int(input())\n",
    "while x > 7 or x < 0:\n",
    "    x = int(input())\n",
    "y = int(input())\n",
    "while x > 7 or x < 0:\n",
    "    y = int(input())\n",
    "\n",
    "print(A[x]+A[y])"
   ]
  },
  {
   "attachments": {},
   "cell_type": "markdown",
   "metadata": {},
   "source": [
    "35."
   ]
  },
  {
   "cell_type": "code",
   "execution_count": 4,
   "metadata": {},
   "outputs": [
    {
     "name": "stdout",
     "output_type": "stream",
     "text": [
      "0 32\n",
      "1 34\n",
      "2 3253\n",
      "0 3\n",
      "4 42\n",
      "5 3422\n",
      "2 5\n",
      "2 4\n",
      "1 3\n",
      "[3, 3, 4, 4, 5, 32, 34, 42, 3253, 3422]\n"
     ]
    }
   ],
   "source": [
    "A=[]\n",
    "for i in range(10):\n",
    "    n = int(input())\n",
    "    \n",
    "    for pos,num in enumerate(A):\n",
    "        if n < num:\n",
    "\n",
    "            A.insert(pos, n)\n",
    "            break\n",
    "        elif pos == len(A)-1:\n",
    "\n",
    "            A.insert(pos+1, n)\n",
    "            break\n",
    "\n",
    "    if i == 0:\n",
    "        A.append(n)\n",
    "print(A)"
   ]
  },
  {
   "attachments": {},
   "cell_type": "markdown",
   "metadata": {},
   "source": [
    "36."
   ]
  },
  {
   "cell_type": "code",
   "execution_count": null,
   "metadata": {},
   "outputs": [],
   "source": []
  },
  {
   "attachments": {},
   "cell_type": "markdown",
   "metadata": {},
   "source": [
    "Desafio da Professora (Espiral)"
   ]
  },
  {
   "cell_type": "code",
   "execution_count": 14,
   "metadata": {},
   "outputs": [
    {
     "name": "stdout",
     "output_type": "stream",
     "text": [
      "Matriz:\n",
      "[1, 2, 3, 4]\n",
      "[5, 6, 7, 8]\n",
      "[9, 10, 11, 12]\n",
      "[13, 1, 15, 16]\n",
      "1\n",
      "2\n",
      "3\n",
      "4\n",
      "8\n",
      "12\n",
      "16\n",
      "15\n",
      "1\n",
      "13\n",
      "9\n",
      "5\n",
      "6\n",
      "7\n",
      "11\n",
      "10\n"
     ]
    }
   ],
   "source": [
    "m = int(input())\n",
    "while m <= 0 or m > 50:\n",
    "    m = int(input())\n",
    "\n",
    "\n",
    "\n",
    "M = []\n",
    "l = j = 0\n",
    "    \n",
    "for num in range(m*m):\n",
    "\n",
    "    if j == 0:\n",
    "        M.insert(l, [])\n",
    "    M[l].append(int(input()))\n",
    "    j+=1\n",
    "    if j == m:\n",
    "        l += 1\n",
    "        j = 0\n",
    "\n",
    "print(\"Matriz:\")\n",
    "for lin in M:\n",
    "    print(lin)\n",
    "\n",
    "dire = 1\n",
    "# 1 direita\n",
    "# 2 baixo\n",
    "# 3 esquerda\n",
    "# 4 cima\n",
    "\n",
    "pas = m\n",
    "ps = 1\n",
    "i = j = 0\n",
    "cont = 1\n",
    "\n",
    "print(M[i][j])\n",
    "for n in range(m*m-1):\n",
    "    if dire == 1:\n",
    "        j+=1\n",
    "        ps +=1\n",
    "    elif dire == 2:\n",
    "        i+=1\n",
    "        ps +=1\n",
    "    elif dire == 3:\n",
    "        j-=1\n",
    "        ps +=1\n",
    "    elif dire == 4:\n",
    "        i-=1\n",
    "        ps +=1\n",
    "\n",
    "    print(M[i][j])\n",
    "\n",
    "\n",
    "    if ps == pas:\n",
    "        cont+=1\n",
    "        ps=0\n",
    "        if cont == 2:\n",
    "            pas-=1\n",
    "            cont = 0\n",
    "        if dire != 4:\n",
    "           dire +=1\n",
    "        else:\n",
    "            dire = 1\n",
    "\n"
   ]
  }
 ],
 "metadata": {
  "kernelspec": {
   "display_name": "Python 3",
   "language": "python",
   "name": "python3"
  },
  "language_info": {
   "codemirror_mode": {
    "name": "ipython",
    "version": 3
   },
   "file_extension": ".py",
   "mimetype": "text/x-python",
   "name": "python",
   "nbconvert_exporter": "python",
   "pygments_lexer": "ipython3",
   "version": "3.10.6"
  },
  "orig_nbformat": 4
 },
 "nbformat": 4,
 "nbformat_minor": 2
}
