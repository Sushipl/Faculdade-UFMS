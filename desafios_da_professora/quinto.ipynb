{
 "cells": [
  {
   "attachments": {},
   "cell_type": "markdown",
   "metadata": {},
   "source": [
    "1."
   ]
  },
  {
   "cell_type": "code",
   "execution_count": 1,
   "metadata": {},
   "outputs": [
    {
     "name": "stdout",
     "output_type": "stream",
     "text": [
      "8\n",
      "1\n",
      "0\n",
      "5\n",
      "-2\n",
      "100\n",
      "7\n"
     ]
    }
   ],
   "source": [
    "A=[1, 0, 5, -2, -5, 7]\n",
    "sum = A[0] + A[1] + A[5]\n",
    "A[4] = 100\n",
    "\n",
    "print(sum)\n",
    "for n in A:\n",
    "    print(n)"
   ]
  },
  {
   "attachments": {},
   "cell_type": "markdown",
   "metadata": {},
   "source": [
    "2."
   ]
  },
  {
   "cell_type": "code",
   "execution_count": 3,
   "metadata": {},
   "outputs": [
    {
     "name": "stdout",
     "output_type": "stream",
     "text": [
      "3 6 2 7 9 3\n"
     ]
    }
   ],
   "source": [
    "A=[]\n",
    "\n",
    "for i in range(6):\n",
    "    A.append(int(input()))\n",
    "\n",
    "print(*A)"
   ]
  },
  {
   "attachments": {},
   "cell_type": "markdown",
   "metadata": {},
   "source": [
    "3."
   ]
  },
  {
   "cell_type": "code",
   "execution_count": 5,
   "metadata": {},
   "outputs": [
    {
     "name": "stdout",
     "output_type": "stream",
     "text": [
      "2.0 4.0 6.0 6.0 4.0 54.0 8.0 5.0 43.0 7.0\n",
      "4.0 16.0 36.0 36.0 16.0 2916.0 64.0 25.0 1849.0 49.0\n"
     ]
    }
   ],
   "source": [
    "A=[]\n",
    "for n in range(10):\n",
    "    A.append(float(input()))\n",
    "NA=[]\n",
    "for n in A:\n",
    "    NA.append(n**2)\n",
    "print(*A)\n",
    "print(*NA)"
   ]
  },
  {
   "attachments": {},
   "cell_type": "markdown",
   "metadata": {},
   "source": [
    "4."
   ]
  },
  {
   "cell_type": "code",
   "execution_count": 6,
   "metadata": {},
   "outputs": [
    {
     "name": "stdout",
     "output_type": "stream",
     "text": [
      "8\n"
     ]
    }
   ],
   "source": [
    "A=[]\n",
    "for i in range(8):\n",
    "    A.append(int(input()))\n",
    "x = int(input())\n",
    "while x > 7 or x < 0:\n",
    "    x = int(input())\n",
    "y = int(input())\n",
    "while x > 7 or x < 0:\n",
    "    y = int(input())\n",
    "\n",
    "print(A[x]+A[y])"
   ]
  },
  {
   "attachments": {},
   "cell_type": "markdown",
   "metadata": {},
   "source": [
    "35."
   ]
  },
  {
   "cell_type": "code",
   "execution_count": 4,
   "metadata": {},
   "outputs": [
    {
     "name": "stdout",
     "output_type": "stream",
     "text": [
      "0 32\n",
      "1 34\n",
      "2 3253\n",
      "0 3\n",
      "4 42\n",
      "5 3422\n",
      "2 5\n",
      "2 4\n",
      "1 3\n",
      "[3, 3, 4, 4, 5, 32, 34, 42, 3253, 3422]\n"
     ]
    }
   ],
   "source": [
    "A=[]\n",
    "for i in range(10):\n",
    "    n = int(input())\n",
    "    \n",
    "    for pos,num in enumerate(A):\n",
    "        if n < num:\n",
    "\n",
    "            A.insert(pos, n)\n",
    "            break\n",
    "        elif pos == len(A)-1:\n",
    "\n",
    "            A.insert(pos+1, n)\n",
    "            break\n",
    "\n",
    "    if i == 0:\n",
    "        A.append(n)\n",
    "print(A)"
   ]
  },
  {
   "attachments": {},
   "cell_type": "markdown",
   "metadata": {},
   "source": [
    "36."
   ]
  },
  {
   "cell_type": "code",
   "execution_count": 18,
   "metadata": {},
   "outputs": [
    {
     "name": "stdout",
     "output_type": "stream",
     "text": [
      "                                                                                                                                                                                                                                                                                                                                                                                                                                                                 1                                                                                                                                                                                                                                                                                                                                                                                                                                                                  \n",
      "                                                                                                                                                                                                                                                                                                                                                                                                                                                                1, 1                                                                                                                                                                                                                                                                                                                                                                                                                                                                \n",
      "                                                                                                                                                                                                                                                                                                                                                                                                                                                              1, 2, 1                                                                                                                                                                                                                                                                                                                                                                                                                                                               \n",
      "                                                                                                                                                                                                                                                                                                                                                                                                                                                             1, 3, 3, 1                                                                                                                                                                                                                                                                                                                                                                                                                                                             \n",
      "                                                                                                                                                                                                                                                                                                                                                                                                                                                           1, 4, 6, 4, 1                                                                                                                                                                                                                                                                                                                                                                                                                                                            \n",
      "                                                                                                                                                                                                                                                                                                                                                                                                                                                         1, 5, 10, 10, 5, 1                                                                                                                                                                                                                                                                                                                                                                                                                                                         \n",
      "                                                                                                                                                                                                                                                                                                                                                                                                                                                       1, 6, 15, 20, 15, 6, 1                                                                                                                                                                                                                                                                                                                                                                                                                                                       \n",
      "                                                                                                                                                                                                                                                                                                                                                                                                                                                     1, 7, 21, 35, 35, 21, 7, 1                                                                                                                                                                                                                                                                                                                                                                                                                                                     \n",
      "                                                                                                                                                                                                                                                                                                                                                                                                                                                   1, 8, 28, 56, 70, 56, 28, 8, 1                                                                                                                                                                                                                                                                                                                                                                                                                                                   \n",
      "                                                                                                                                                                                                                                                                                                                                                                                                                                                1, 9, 36, 84, 126, 126, 84, 36, 9, 1                                                                                                                                                                                                                                                                                                                                                                                                                                                \n",
      "                                                                                                                                                                                                                                                                                                                                                                                                                                           1, 10, 45, 120, 210, 252, 210, 120, 45, 10, 1                                                                                                                                                                                                                                                                                                                                                                                                                                            \n",
      "                                                                                                                                                                                                                                                                                                                                                                                                                                         1, 11, 55, 165, 330, 462, 462, 330, 165, 55, 11, 1                                                                                                                                                                                                                                                                                                                                                                                                                                         \n",
      "                                                                                                                                                                                                                                                                                                                                                                                                                                      1, 12, 66, 220, 495, 792, 924, 792, 495, 220, 66, 12, 1                                                                                                                                                                                                                                                                                                                                                                                                                                       \n",
      "                                                                                                                                                                                                                                                                                                                                                                                                                                  1, 13, 78, 286, 715, 1287, 1716, 1716, 1287, 715, 286, 78, 13, 1                                                                                                                                                                                                                                                                                                                                                                                                                                  \n",
      "                                                                                                                                                                                                                                                                                                                                                                                                                              1, 14, 91, 364, 1001, 2002, 3003, 3432, 3003, 2002, 1001, 364, 91, 14, 1                                                                                                                                                                                                                                                                                                                                                                                                                              \n",
      "                                                                                                                                                                                                                                                                                                                                                                                                                          1, 15, 105, 455, 1365, 3003, 5005, 6435, 6435, 5005, 3003, 1365, 455, 105, 15, 1                                                                                                                                                                                                                                                                                                                                                                                                                          \n",
      "                                                                                                                                                                                                                                                                                                                                                                                                                     1, 16, 120, 560, 1820, 4368, 8008, 11440, 12870, 11440, 8008, 4368, 1820, 560, 120, 16, 1                                                                                                                                                                                                                                                                                                                                                                                                                      \n",
      "                                                                                                                                                                                                                                                                                                                                                                                                                 1, 17, 136, 680, 2380, 6188, 12376, 19448, 24310, 24310, 19448, 12376, 6188, 2380, 680, 136, 17, 1                                                                                                                                                                                                                                                                                                                                                                                                                 \n",
      "                                                                                                                                                                                                                                                                                                                                                                                                             1, 18, 153, 816, 3060, 8568, 18564, 31824, 43758, 48620, 43758, 31824, 18564, 8568, 3060, 816, 153, 18, 1                                                                                                                                                                                                                                                                                                                                                                                                              \n",
      "                                                                                                                                                                                                                                                                                                                                                                                                         1, 19, 171, 969, 3876, 11628, 27132, 50388, 75582, 92378, 92378, 75582, 50388, 27132, 11628, 3876, 969, 171, 19, 1                                                                                                                                                                                                                                                                                                                                                                                                         \n",
      "                                                                                                                                                                                                                                                                                                                                                                                                  1, 20, 190, 1140, 4845, 15504, 38760, 77520, 125970, 167960, 184756, 167960, 125970, 77520, 38760, 15504, 4845, 1140, 190, 20, 1                                                                                                                                                                                                                                                                                                                                                                                                  \n",
      "                                                                                                                                                                                                                                                                                                                                                                                             1, 21, 210, 1330, 5985, 20349, 54264, 116280, 203490, 293930, 352716, 352716, 293930, 203490, 116280, 54264, 20349, 5985, 1330, 210, 21, 1                                                                                                                                                                                                                                                                                                                                                                                             \n",
      "                                                                                                                                                                                                                                                                                                                                                                                         1, 22, 231, 1540, 7315, 26334, 74613, 170544, 319770, 497420, 646646, 705432, 646646, 497420, 319770, 170544, 74613, 26334, 7315, 1540, 231, 22, 1                                                                                                                                                                                                                                                                                                                                                                                         \n",
      "                                                                                                                                                                                                                                                                                                                                                                                  1, 23, 253, 1771, 8855, 33649, 100947, 245157, 490314, 817190, 1144066, 1352078, 1352078, 1144066, 817190, 490314, 245157, 100947, 33649, 8855, 1771, 253, 23, 1                                                                                                                                                                                                                                                                                                                                                                                  \n",
      "                                                                                                                                                                                                                                                                                                                                                                           1, 24, 276, 2024, 10626, 42504, 134596, 346104, 735471, 1307504, 1961256, 2496144, 2704156, 2496144, 1961256, 1307504, 735471, 346104, 134596, 42504, 10626, 2024, 276, 24, 1                                                                                                                                                                                                                                                                                                                                                                            \n",
      "                                                                                                                                                                                                                                                                                                                                                                      1, 25, 300, 2300, 12650, 53130, 177100, 480700, 1081575, 2042975, 3268760, 4457400, 5200300, 5200300, 4457400, 3268760, 2042975, 1081575, 480700, 177100, 53130, 12650, 2300, 300, 25, 1                                                                                                                                                                                                                                                                                                                                                                      \n",
      "                                                                                                                                                                                                                                                                                                                                                                 1, 26, 325, 2600, 14950, 65780, 230230, 657800, 1562275, 3124550, 5311735, 7726160, 9657700, 10400600, 9657700, 7726160, 5311735, 3124550, 1562275, 657800, 230230, 65780, 14950, 2600, 325, 26, 1                                                                                                                                                                                                                                                                                                                                                                 \n",
      "                                                                                                                                                                                                                                                                                                                                                          1, 27, 351, 2925, 17550, 80730, 296010, 888030, 2220075, 4686825, 8436285, 13037895, 17383860, 20058300, 20058300, 17383860, 13037895, 8436285, 4686825, 2220075, 888030, 296010, 80730, 17550, 2925, 351, 27, 1                                                                                                                                                                                                                                                                                                                                                          \n",
      "                                                                                                                                                                                                                                                                                                                                                   1, 28, 378, 3276, 20475, 98280, 376740, 1184040, 3108105, 6906900, 13123110, 21474180, 30421755, 37442160, 40116600, 37442160, 30421755, 21474180, 13123110, 6906900, 3108105, 1184040, 376740, 98280, 20475, 3276, 378, 28, 1                                                                                                                                                                                                                                                                                                                                                   \n",
      "                                                                                                                                                                                                                                                                                                                                            1, 29, 406, 3654, 23751, 118755, 475020, 1560780, 4292145, 10015005, 20030010, 34597290, 51895935, 67863915, 77558760, 77558760, 67863915, 51895935, 34597290, 20030010, 10015005, 4292145, 1560780, 475020, 118755, 23751, 3654, 406, 29, 1                                                                                                                                                                                                                                                                                                                                            \n"
     ]
    }
   ],
   "source": [
    "lin = int(input())\n",
    "latu=[1]\n",
    "lant=[]\n",
    "for num in range(lin):\n",
    "    print(str(latu).strip(\"[]\").center(lin*10))\n",
    "    lant=latu[:]\n",
    "    latu = []\n",
    "    tam = len(lant)+1\n",
    "    for n in range(tam):\n",
    "        if n == 0:\n",
    "            latu.append(lant[0])\n",
    "        elif n+1 == tam:\n",
    "            latu.append(lant[-1])\n",
    "        else:\n",
    "            latu.append(lant[n]+lant[n-1])"
   ]
  },
  {
   "attachments": {},
   "cell_type": "markdown",
   "metadata": {},
   "source": [
    "Matrizes"
   ]
  },
  {
   "attachments": {},
   "cell_type": "markdown",
   "metadata": {},
   "source": [
    "24."
   ]
  },
  {
   "cell_type": "code",
   "execution_count": 21,
   "metadata": {},
   "outputs": [
    {
     "name": "stdout",
     "output_type": "stream",
     "text": [
      "51267216\n"
     ]
    }
   ],
   "source": [
    "M = [[8, 2, 22, 97, 38, 15, 00, 40, 00, 75, 4, 5, 7, 78, 52, 12, 50, 77, 91, 8]\n",
    ",[49, 49, 99, 40, 17, 81, 18, 57, 60, 87, 17, 40, 98, 43, 69, 48, 4, 56, 62, 00]\n",
    ",[81, 49, 31, 73, 55, 79, 14, 29, 93, 71, 40, 67, 53, 88, 30, 3, 49, 13, 36, 65]\n",
    ",[52, 70, 95, 23, 4, 60, 11, 42, 69, 24, 68, 56, 1, 32, 56, 71, 37, 2, 36, 91]\n",
    ",[22, 31, 16, 71, 51, 67, 63, 89, 41, 92, 36, 54, 22, 40, 40, 28, 66, 33, 13, 80]\n",
    ",[24, 47, 32, 60, 99, 3, 45, 2, 44, 75, 33, 53, 78, 36, 84, 20, 35, 17, 12, 50]\n",
    ",[32, 98, 81, 28, 64, 23, 67, 10, 26, 38, 40, 67, 59, 54, 70, 66, 18, 38, 64, 70]\n",
    ",[67, 26, 20, 68, 2, 62, 12, 20, 95, 63, 94, 39, 63, 8, 40, 91, 66, 49, 94, 21]\n",
    ",[24, 55, 58, 5, 66, 73, 99, 26, 97, 17, 78, 78, 96, 83, 14, 88, 34, 89, 63, 72]\n",
    ",[21, 36, 23, 9, 75, 00, 76, 44, 20, 45, 35, 14, 00, 61, 33, 97, 34, 31, 33, 95]\n",
    ",[78, 17, 53, 28, 22, 75, 31, 67, 15, 94, 3, 80, 4, 62, 16, 14, 9, 53, 56, 92]\n",
    ",[16, 39, 5, 42, 96, 35, 31, 47, 55, 58, 88, 24, 00, 17, 54, 24, 36, 29, 85, 57]\n",
    ",[86, 56, 00, 48, 35, 71, 89, 7, 5, 44, 44, 37, 44, 60, 21, 58, 51, 54, 17, 58]\n",
    ",[19, 80, 81, 68, 5, 94, 47, 69, 28, 73, 92, 13, 86, 52, 17, 77, 4, 89, 55, 40]\n",
    ",[4, 52, 8, 83, 97, 35, 99, 16, 7, 97, 57, 32, 16, 26, 26, 79, 33, 27, 98, 66]\n",
    ",[88, 36, 68, 87, 57, 62, 20, 72, 3, 46, 33, 67, 46, 55, 12, 32, 63, 93, 53, 69]\n",
    ",[4, 42, 16, 73, 38, 25, 39, 11, 24, 94, 72, 18, 8, 46, 29, 32, 40, 62, 76, 36]\n",
    ",[20, 69, 36, 41, 72, 30, 23, 88, 34, 62, 99, 69, 82, 67, 59, 85, 74, 4, 36, 16]\n",
    ",[20, 73, 35, 29, 78, 31, 90, 1, 74, 31, 49, 71, 48, 86, 81, 16, 23, 57, 5, 54]\n",
    ",[1, 70, 54, 71, 83, 51, 54, 69, 16, 92, 33, 48, 61, 43, 52, 1, 89, 19, 67, 48]\n",
    "]\n",
    "maiorsom = 0\n",
    "for posi, i in enumerate(M):\n",
    "    for posj, j in enumerate(i):\n",
    "        som = 0\n",
    "        #diagonal\n",
    "        if posj < 17 and posi < 17:\n",
    "            nsom = M[posi][posj]*M[posi+1][posj+1]*M[posi+2][posj+2]*M[posi+3][posj+3] \n",
    "\n",
    "            if som < nsom:\n",
    "                som = nsom\n",
    "                \n",
    "        #vertical\n",
    "        if posi < 17:\n",
    "            nsom = M[posi][posj]*M[posi+1][posj]*M[posi+2][posj]*M[posi+3][posj]\n",
    "\n",
    "            if som < nsom:\n",
    "                som = nsom\n",
    "        \n",
    "        if posj < 17:\n",
    "            nsom = M[posi][posj]*M[posi][posj+1]*M[posi][posj+2]*M[posi][posj+3] \n",
    "\n",
    "            if som < nsom:\n",
    "                som = nsom\n",
    "        \n",
    "        if posj > 2 and posi > 2:\n",
    "            nsom = M[posi][posj]*M[posi-1][posj-1]*M[posi-2][posj-2]*M[posi-3][posj-3] \n",
    "\n",
    "            if som < nsom:\n",
    "                som = nsom\n",
    "        if som > maiorsom:\n",
    "            maiorsom = som\n",
    "print(maiorsom)"
   ]
  },
  {
   "attachments": {},
   "cell_type": "markdown",
   "metadata": {},
   "source": [
    "25."
   ]
  },
  {
   "cell_type": "code",
   "execution_count": 12,
   "metadata": {},
   "outputs": [
    {
     "name": "stdout",
     "output_type": "stream",
     "text": [
      "==========\n",
      " 0   0   0  \n",
      " 0   0   0  \n",
      " 0   0   0  \n",
      "==========\n",
      "==========\n",
      " 1   2   3  \n",
      " 4   5   6  \n",
      " 7   8   9  \n",
      "==========\n",
      "[1, 2, 3, 5, 6, 7, 8, 9]\n",
      "==========\n",
      " 0   0   0  \n",
      " 1   0   0  \n",
      " 0   0   0  \n",
      "==========\n",
      "[2, 3, 5, 6, 7, 8, 9]\n",
      "==========\n",
      " -1  0   0  \n",
      " 1   0   0  \n",
      " 0   0   0  \n",
      "==========\n",
      "[3, 5, 6, 7, 8, 9]\n",
      "==========\n",
      " -1  1   0  \n",
      " 1   0   0  \n",
      " 0   0   0  \n",
      "==========\n",
      "[5, 6, 7, 8, 9]\n",
      "==========\n",
      " -1  1   -1 \n",
      " 1   0   0  \n",
      " 0   0   0  \n",
      "==========\n",
      "[5, 7, 8, 9]\n",
      "==========\n",
      " -1  1   -1 \n",
      " 1   0   1  \n",
      " 0   0   0  \n",
      "==========\n",
      "[5, 8, 9]\n",
      "==========\n",
      " -1  1   -1 \n",
      " 1   0   1  \n",
      " -1  0   0  \n",
      "==========\n",
      "[8, 9]\n",
      "==========\n",
      " -1  1   -1 \n",
      " 1   1   1  \n",
      " -1  0   0  \n",
      "==========\n"
     ]
    }
   ],
   "source": [
    "def Linha():\n",
    "    print(\"=\"*10)\n",
    "def printM(M):\n",
    "    Linha()    \n",
    "    for lin in M:\n",
    "        for num in lin:\n",
    "            print(str(num).center(3),end=\" \")\n",
    "        print()\n",
    "    Linha()\n",
    "M = [[],[],[]]\n",
    "ref = [[],[],[]]\n",
    "\n",
    "for lin in range(3):\n",
    "    for _ in range(3):\n",
    "        M[lin].append(0)\n",
    "\n",
    "for lin in range(3):\n",
    "    for col in range(1,4):\n",
    "        ref[lin].append(col+lin*3)\n",
    "jogas = []\n",
    "for num in range(1,10):\n",
    "    jogas.append(num)\n",
    "\n",
    "printM(M)\n",
    "printM(ref)\n",
    "comp = False\n",
    "atual = 1\n",
    "while comp == False:\n",
    "    #Diagonal Principal\n",
    "    if M[0][0]==M[1][1]==M[2][2] and M[0][0]!=0:\n",
    "        comp = True\n",
    "\n",
    "    #Diagonal Secundaria\n",
    "    if M[0][2]==M[1][1]==M[2][0] and M[0][2]!=0:\n",
    "        comp = True\n",
    "\n",
    "    #horizontal\n",
    "    for num in range(3):\n",
    "        if M[num][0]==M[num][1]==M[num][2] and M[num][0]!=0:\n",
    "            comp=True\n",
    "\n",
    "    #vertical\n",
    "    for num in range(3):\n",
    "        if M[0][num]==M[1][num]==M[2][num] and M[0][num]!=0:\n",
    "            comp=True\n",
    "\n",
    "\n",
    "    #encerra caso não tenha mais possições\n",
    "    if len(jogas) == 0:\n",
    "        comp = True\n",
    "    if comp == True:\n",
    "        continue\n",
    "\n",
    "    #jogar\n",
    "    pos = int(input(\"onde jodar? \"))\n",
    "    while pos not in jogas:\n",
    "        pos = int(input(\"onde jodar? \"))\n",
    "    jogas.remove(pos)\n",
    "    print(jogas)\n",
    "    linha = 0\n",
    "    while pos > 3:\n",
    "        linha +=1 \n",
    "        pos -=3\n",
    "        \n",
    "    if atual == 1:\n",
    "        M[linha][pos-1] = atual\n",
    "        atual = -1\n",
    "    elif atual == -1:\n",
    "        M[linha][pos-1] = atual\n",
    "        atual = 1\n",
    "    printM(M)\n"
   ]
  },
  {
   "attachments": {},
   "cell_type": "markdown",
   "metadata": {},
   "source": [
    "Desafio da Professora (Espiral)"
   ]
  },
  {
   "cell_type": "code",
   "execution_count": 14,
   "metadata": {},
   "outputs": [
    {
     "name": "stdout",
     "output_type": "stream",
     "text": [
      "Matriz:\n",
      "[1, 2, 3, 4]\n",
      "[5, 6, 7, 8]\n",
      "[9, 10, 11, 12]\n",
      "[13, 1, 15, 16]\n",
      "1\n",
      "2\n",
      "3\n",
      "4\n",
      "8\n",
      "12\n",
      "16\n",
      "15\n",
      "1\n",
      "13\n",
      "9\n",
      "5\n",
      "6\n",
      "7\n",
      "11\n",
      "10\n"
     ]
    }
   ],
   "source": [
    "m = int(input())\n",
    "while m <= 0 or m > 50:\n",
    "    m = int(input())\n",
    "\n",
    "\n",
    "\n",
    "M = []\n",
    "l = j = 0\n",
    "    \n",
    "for num in range(m*m):\n",
    "\n",
    "    if j == 0:\n",
    "        M.insert(l, [])\n",
    "    M[l].append(int(input()))\n",
    "    j+=1\n",
    "    if j == m:\n",
    "        l += 1\n",
    "        j = 0\n",
    "\n",
    "print(\"Matriz:\")\n",
    "for lin in M:\n",
    "    print(lin)\n",
    "\n",
    "dire = 1\n",
    "# 1 direita\n",
    "# 2 baixo\n",
    "# 3 esquerda\n",
    "# 4 cima\n",
    "\n",
    "pas = m\n",
    "ps = 1\n",
    "i = j = 0\n",
    "cont = 1\n",
    "\n",
    "print(M[i][j])\n",
    "for n in range(m*m-1):\n",
    "    if dire == 1:\n",
    "        j+=1\n",
    "        ps +=1\n",
    "    elif dire == 2:\n",
    "        i+=1\n",
    "        ps +=1\n",
    "    elif dire == 3:\n",
    "        j-=1\n",
    "        ps +=1\n",
    "    elif dire == 4:\n",
    "        i-=1\n",
    "        ps +=1\n",
    "\n",
    "    print(M[i][j])\n",
    "\n",
    "\n",
    "    if ps == pas:\n",
    "        cont+=1\n",
    "        ps=0\n",
    "        if cont == 2:\n",
    "            pas-=1\n",
    "            cont = 0\n",
    "        if dire != 4:\n",
    "           dire +=1\n",
    "        else:\n",
    "            dire = 1\n",
    "\n"
   ]
  }
 ],
 "metadata": {
  "kernelspec": {
   "display_name": "Python 3",
   "language": "python",
   "name": "python3"
  },
  "language_info": {
   "codemirror_mode": {
    "name": "ipython",
    "version": 3
   },
   "file_extension": ".py",
   "mimetype": "text/x-python",
   "name": "python",
   "nbconvert_exporter": "python",
   "pygments_lexer": "ipython3",
   "version": "3.10.6"
  },
  "orig_nbformat": 4
 },
 "nbformat": 4,
 "nbformat_minor": 2
}
