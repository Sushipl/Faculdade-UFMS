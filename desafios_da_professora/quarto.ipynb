{
 "cells": [
  {
   "attachments": {},
   "cell_type": "markdown",
   "metadata": {},
   "source": [
    "1."
   ]
  },
  {
   "cell_type": "code",
   "execution_count": 6,
   "metadata": {},
   "outputs": [
    {
     "name": "stdout",
     "output_type": "stream",
     "text": [
      "4\n"
     ]
    }
   ],
   "source": [
    "p = 0\n",
    "for n in range(20):\n",
    "    N = int(input(\"Idade:\"))\n",
    "    if N < 18:\n",
    "        p+=1\n",
    "print(p)"
   ]
  },
  {
   "attachments": {},
   "cell_type": "markdown",
   "metadata": {},
   "source": [
    "2."
   ]
  },
  {
   "cell_type": "code",
   "execution_count": 20,
   "metadata": {},
   "outputs": [
    {
     "name": "stdout",
     "output_type": "stream",
     "text": [
      "É primo!\n"
     ]
    }
   ],
   "source": [
    "n = int(input())\n",
    "\n",
    "j = 0 \n",
    "for i in range(2, n):\n",
    "    if n%i == 0:\n",
    "        j+=1\n",
    "if j == 0:\n",
    "    print(\"É primo!\")\n",
    "else:\n",
    "    print(\"Não é primo!\")"
   ]
  },
  {
   "attachments": {},
   "cell_type": "markdown",
   "metadata": {},
   "source": [
    "3."
   ]
  },
  {
   "cell_type": "code",
   "execution_count": 24,
   "metadata": {},
   "outputs": [
    {
     "name": "stdout",
     "output_type": "stream",
     "text": [
      "Dígite um número valido!\n",
      "Dígite um número valido!\n",
      "Eneas: 3\n",
      "Afifi: 4\n",
      "Olavo: 6\n",
      "D. Pedro ||: 5\n",
      "Nulos: 3\n",
      "Brancos: 1\n",
      "% de nulos: 13.64%\n",
      "% de brancos: 4.55%\n"
     ]
    }
   ],
   "source": [
    "n = int(input(\"Seu voto:\\n1 - Eneas\\n2 - Afif\\n3 - Olavo\\n4 - D. Pedro ||\\n5 - Nulo\\n6 - Branco\\n0 - Finalizar\"))\n",
    "nulos = brancos = quant = 0\n",
    "votos = [0,0,0,0]\n",
    "\n",
    "while n != 0:\n",
    "    if 4 >= n >=1:\n",
    "        quant += 1\n",
    "        votos[n-1] += 1\n",
    "    elif n == 5:\n",
    "        quant += 1\n",
    "        nulos +=1\n",
    "    elif n == 6:\n",
    "        quant += 1\n",
    "        brancos += 1\n",
    "    else:\n",
    "        print(\"Dígite um número valido!\")\n",
    "    n = int(input(\"Seu voto:\\n1 - Eneas\\n2 - Afif\\n3 - Olavo\\n4 - D. Pedro ||\\n5 - Nulo\\n6 - Branco\\n0 - Finalizar\"))\n",
    "print(f\"Eneas: {votos[0]}\\nAfifi: {votos[1]}\\nOlavo: {votos[2]}\\nD. Pedro ||: {votos[3]}\\nNulos: {nulos}\\nBrancos: {brancos}\\n% de nulos: {((nulos/quant)*100):.2f}%\\n% de brancos: {((brancos/quant)*100):.2f}%\")"
   ]
  },
  {
   "attachments": {},
   "cell_type": "markdown",
   "metadata": {},
   "source": [
    "4."
   ]
  },
  {
   "cell_type": "code",
   "execution_count": 26,
   "metadata": {},
   "outputs": [
    {
     "name": "stdout",
     "output_type": "stream",
     "text": [
      "40.00\n"
     ]
    }
   ],
   "source": [
    "n = int(input(\"Dígite um número: \"))\n",
    "soma = quant =  somapares = quantpares = 0\n",
    "maior = menor = n\n",
    "while n != 0:\n",
    "    quant+=1\n",
    "    soma+=n\n",
    "    if n > maior:\n",
    "        maior = n\n",
    "    if n < menor:\n",
    "        menor = n\n",
    "    if n%2==0:\n",
    "        quantpares+=1\n",
    "        somapares+=n\n",
    "    n = int(input(\"Dígite um número: \"))\n",
    "\n",
    "esc = int(input(\"(1) Soma dos números digitados\\n(2) Quantidade de números digitados\\n(3) Média dos números digitados\\n(4) Maior número digitado\\n(5) Menor número digitado\\n(6)Média dos números pares\\n(7) Sair\"))\n",
    "\n",
    "if esc == 1:\n",
    "    print(soma)\n",
    "elif esc == 2:\n",
    "    print(quant)\n",
    "elif esc == 3:\n",
    "    print(f\"{soma/quant:.2f}\")\n",
    "elif esc == 4:\n",
    "    print(maior)\n",
    "elif esc == 5:\n",
    "    print(menor)\n",
    "elif esc == 6:\n",
    "    print(f\"{somapares/quantpares:.2f}\")"
   ]
  },
  {
   "attachments": {},
   "cell_type": "markdown",
   "metadata": {},
   "source": [
    "5."
   ]
  },
  {
   "cell_type": "code",
   "execution_count": 30,
   "metadata": {},
   "outputs": [
    {
     "name": "stdout",
     "output_type": "stream",
     "text": [
      "25\n"
     ]
    }
   ],
   "source": [
    "n = int(input())\n",
    "soma = 0\n",
    "i = 1\n",
    "while n > 0:\n",
    "    soma += i\n",
    "    i += 2\n",
    "    n-=1\n",
    "print(soma)"
   ]
  }
 ],
 "metadata": {
  "kernelspec": {
   "display_name": "Python 3",
   "language": "python",
   "name": "python3"
  },
  "language_info": {
   "codemirror_mode": {
    "name": "ipython",
    "version": 3
   },
   "file_extension": ".py",
   "mimetype": "text/x-python",
   "name": "python",
   "nbconvert_exporter": "python",
   "pygments_lexer": "ipython3",
   "version": "3.10.6"
  },
  "orig_nbformat": 4,
  "vscode": {
   "interpreter": {
    "hash": "3763ad9f89648d847e6f5401e1219410b4a0054c5a073f5da0c68452446768ec"
   }
  }
 },
 "nbformat": 4,
 "nbformat_minor": 2
}
