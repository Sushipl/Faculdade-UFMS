{
 "cells": [
  {
   "attachments": {},
   "cell_type": "markdown",
   "metadata": {},
   "source": [
    "1)"
   ]
  },
  {
   "cell_type": "code",
   "execution_count": null,
   "metadata": {},
   "outputs": [],
   "source": [
    "a = int(input(\"Coeficiente A: \"))\n",
    "\n",
    "b = int(input(\"Coeficiente B: \"))\n",
    "\n",
    "c = int(input(\"Coeficiente C: \"))\n",
    "\n",
    "delta = (b**2)-(4*a*c)\n",
    "if delta>0:\n",
    "\n",
    "    print(\"x' = \",((-b+(delta**(1/2)))/(2*a)),\n",
    "    \", x'' = \",((-b-(delta**(1/2)))/(2*a)))\n",
    "\n",
    "elif delta==0:\n",
    "\n",
    "    print(\"x' = \",(-b+(delta**(1/2))/2*a))\n",
    "\n",
    "else:\n",
    "\n",
    "    print(\"N/A\")"
   ]
  },
  {
   "attachments": {},
   "cell_type": "markdown",
   "metadata": {},
   "source": [
    "2)"
   ]
  },
  {
   "cell_type": "code",
   "execution_count": null,
   "metadata": {},
   "outputs": [],
   "source": [
    "nome = input(\"Nome do funcionário: \")\n",
    "n2 = float(input(\"Sálario atual: \"))\n",
    "\n",
    "\n",
    "n1 = float(input(\"Sálario mínimo: \"))\n",
    "\n",
    "print(nome)\n",
    "if n2 <= n1*3:\n",
    "\n",
    "    print(\"{:.2f}\".format(n2*1.5))\n",
    "\n",
    "elif n1*3 < n2 < n1*10:\n",
    "\n",
    "    print(\"{:.2f}\".format(n2*1.2))\n",
    "\n",
    "elif n2 >= n1*10:\n",
    "\n",
    "    print(\"{:.2f}\".format(n2*1.15))"
   ]
  },
  {
   "attachments": {},
   "cell_type": "markdown",
   "metadata": {},
   "source": [
    "3)"
   ]
  },
  {
   "cell_type": "code",
   "execution_count": null,
   "metadata": {},
   "outputs": [],
   "source": [
    "nome = input(\"Nome: \")\n",
    "port = float(input(\"Nota em português: \"))\n",
    "\n",
    "mate = float(input(\"Nota em matemática: \"))\n",
    "\n",
    "coge = float(input(\"Nota em conhecimentos gerais: \"))\n",
    "\n",
    "print(f\"Nome: {nome} \\nNota em português: {port}\\nNota em matemática: {mate}\\nNota em conhecimentos gerais: {coge}\\nMédia do {nome}: {((port+mate+coge)/3):.2f}\")\n",
    "\n",
    "if port < 4 or mate < 4 or coge < 4 or ((port+mate+coge)/3) <= 5:\n",
    "\n",
    "    print(\"Reprovado!\")\n",
    "\n",
    "else:\n",
    "\n",
    "    print(\"Aprovado!\")"
   ]
  },
  {
   "attachments": {},
   "cell_type": "markdown",
   "metadata": {},
   "source": [
    "4)"
   ]
  },
  {
   "cell_type": "code",
   "execution_count": 1,
   "metadata": {},
   "outputs": [
    {
     "ename": "ValueError",
     "evalue": "invalid literal for int() with base 10: ''",
     "output_type": "error",
     "traceback": [
      "\u001b[1;31m---------------------------------------------------------------------------\u001b[0m",
      "\u001b[1;31mValueError\u001b[0m                                Traceback (most recent call last)",
      "\u001b[1;32mc:\\Faculdade UFMS\\desafios_da_professora\\desaselecao.ipynb Cell 2\u001b[0m in \u001b[0;36m<cell line: 1>\u001b[1;34m()\u001b[0m\n\u001b[1;32m----> <a href='vscode-notebook-cell:/c%3A/Faculdade%20UFMS/desafios_da_professora/desaselecao.ipynb#W5sZmlsZQ%3D%3D?line=0'>1</a>\u001b[0m x \u001b[39m=\u001b[39m \u001b[39mint\u001b[39;49m(\u001b[39minput\u001b[39;49m(\u001b[39m\"\u001b[39;49m\u001b[39mx: \u001b[39;49m\u001b[39m\"\u001b[39;49m))\n\u001b[0;32m      <a href='vscode-notebook-cell:/c%3A/Faculdade%20UFMS/desafios_da_professora/desaselecao.ipynb#W5sZmlsZQ%3D%3D?line=2'>3</a>\u001b[0m y \u001b[39m=\u001b[39m \u001b[39mint\u001b[39m(\u001b[39minput\u001b[39m(\u001b[39m\"\u001b[39m\u001b[39my: \u001b[39m\u001b[39m\"\u001b[39m))\n\u001b[0;32m      <a href='vscode-notebook-cell:/c%3A/Faculdade%20UFMS/desafios_da_professora/desaselecao.ipynb#W5sZmlsZQ%3D%3D?line=4'>5</a>\u001b[0m z \u001b[39m=\u001b[39m \u001b[39mint\u001b[39m(\u001b[39minput\u001b[39m(\u001b[39m\"\u001b[39m\u001b[39mz: \u001b[39m\u001b[39m\"\u001b[39m))\n",
      "\u001b[1;31mValueError\u001b[0m: invalid literal for int() with base 10: ''"
     ]
    }
   ],
   "source": [
    "x = int(input(\"x: \"))\n",
    "\n",
    "y = int(input(\"y: \"))\n",
    "\n",
    "z = int(input(\"z: \"))\n",
    "\n",
    "if x > y or z <= 30:\n",
    "\n",
    "    x *=2\n",
    "\n",
    "else:\n",
    "\n",
    "    x/=2\n",
    "\n",
    "    z/=5\n",
    "\n",
    "print(\"x = \", x\n",
    ",\"\\ny =\", y\n",
    ",\"\\nz = \", z\n",
    ")"
   ]
  },
  {
   "attachments": {},
   "cell_type": "markdown",
   "metadata": {},
   "source": [
    "5)"
   ]
  },
  {
   "cell_type": "code",
   "execution_count": null,
   "metadata": {},
   "outputs": [],
   "source": [
    "C = input(\"Código: \")\n",
    "\n",
    "N = int(input(\"Horas trabalhadas: \"))\n",
    "\n",
    "Ex = 0\n",
    "\n",
    "if N > 50:\n",
    "    Ex = N - 50\n",
    "\n",
    "    N -= Ex\n",
    "print(f\"Salário sem excedente: R${N*10:.2f}\\nSalário excedente: R${Ex*20:.2f}\\nSalário total: R${N*10+Ex*20:.2f}\")"
   ]
  },
  {
   "attachments": {},
   "cell_type": "markdown",
   "metadata": {},
   "source": [
    "6)"
   ]
  },
  {
   "cell_type": "code",
   "execution_count": null,
   "metadata": {},
   "outputs": [],
   "source": [
    "\n",
    "alt = float(input(\"Sua altura: \"))\n",
    "\n",
    "peso = float(input(\"Seu peso: \"))\n",
    "\n",
    "oms = (peso/(alt**2))\n",
    "\n",
    "match oms:\n",
    "\n",
    "    case oms if 0 <= oms <= 10:\n",
    "\n",
    "        print(\"Desnutrido!\")\n",
    "\n",
    "    case oms if 10 < oms <= 18:\n",
    "\n",
    "        print(\"Abaixo do Peso!\")\n",
    "\n",
    "    case oms if 18 < oms <= 26:\n",
    "\n",
    "        print(\"Normal!\")\n",
    "\n",
    "    case oms if 26 < oms <= 30:\n",
    "\n",
    "        print(\"Acima do Peso!\")\n",
    "\n",
    "    case oms if oms > 30:\n",
    "\n",
    "        print(\"Obeso!\")\n",
    "\n",
    "    case _:\n",
    "\n",
    "        print(\"Você provavelmente escreveu um número négativo!\")\n",
    "\n",
    "print(f\"{oms:.2f}\")"
   ]
  }
 ],
 "metadata": {
  "kernelspec": {
   "display_name": "Python 3",
   "language": "python",
   "name": "python3"
  },
  "language_info": {
   "codemirror_mode": {
    "name": "ipython",
    "version": 3
   },
   "file_extension": ".py",
   "mimetype": "text/x-python",
   "name": "python",
   "nbconvert_exporter": "python",
   "pygments_lexer": "ipython3",
   "version": "3.10.6"
  },
  "orig_nbformat": 4
 },
 "nbformat": 4,
 "nbformat_minor": 2
}
