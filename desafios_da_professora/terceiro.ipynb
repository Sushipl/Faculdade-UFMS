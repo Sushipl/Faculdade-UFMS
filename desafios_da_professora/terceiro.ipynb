{
 "cells": [
  {
   "attachments": {},
   "cell_type": "markdown",
   "metadata": {},
   "source": [
    "1"
   ]
  },
  {
   "cell_type": "code",
   "execution_count": 2,
   "metadata": {},
   "outputs": [
    {
     "name": "stdout",
     "output_type": "stream",
     "text": [
      "0\n",
      "2\n",
      "4\n",
      "6\n"
     ]
    }
   ],
   "source": [
    "num = int(input())\n",
    "for n in range(0, num+1, 2):\n",
    "    print(n)"
   ]
  },
  {
   "attachments": {},
   "cell_type": "markdown",
   "metadata": {},
   "source": [
    "2"
   ]
  },
  {
   "cell_type": "code",
   "execution_count": 3,
   "metadata": {},
   "outputs": [
    {
     "name": "stdout",
     "output_type": "stream",
     "text": [
      "Chame um amigo para tentar adivinha o número\n",
      "Parabéns\n"
     ]
    }
   ],
   "source": [
    "max = int(input(\"Número máximo\"))\n",
    "min = int(input(\"Número a ser adivinhado\"))\n",
    "print(\"Chame um amigo para tentar adivinha o número\")\n",
    "n = int(input(f\"Adivinhe o número entre 0 e {max}\"))\n",
    "while n != min:\n",
    "    n = int(input(f\"Adivinhe o número entre 0 e {max}\"))    \n",
    "print(\"Parabéns\")"
   ]
  },
  {
   "attachments": {},
   "cell_type": "markdown",
   "metadata": {},
   "source": [
    "3"
   ]
  },
  {
   "cell_type": "code",
   "execution_count": 13,
   "metadata": {},
   "outputs": [
    {
     "name": "stdout",
     "output_type": "stream",
     "text": [
      "81\n"
     ]
    }
   ],
   "source": [
    "x = int(input())\n",
    "y = int(input())\n",
    "y-=1\n",
    "ant = x\n",
    "while x>0 and y>0:\n",
    "    y-=1\n",
    "    x*=ant\n",
    "print(x)"
   ]
  },
  {
   "attachments": {},
   "cell_type": "markdown",
   "metadata": {},
   "source": [
    "4"
   ]
  },
  {
   "cell_type": "code",
   "execution_count": 20,
   "metadata": {},
   "outputs": [
    {
     "name": "stdout",
     "output_type": "stream",
     "text": [
      "720\n"
     ]
    }
   ],
   "source": [
    "fat = int(input())\n",
    "calc = 1\n",
    "for n in range(fat, 0, -1):\n",
    "    calc*=n\n",
    "print(calc)"
   ]
  },
  {
   "attachments": {},
   "cell_type": "markdown",
   "metadata": {},
   "source": [
    "5\n"
   ]
  },
  {
   "cell_type": "code",
   "execution_count": 24,
   "metadata": {},
   "outputs": [
    {
     "name": "stdout",
     "output_type": "stream",
     "text": [
      "0 x 23 = 0\n",
      "1 x 23 = 23\n",
      "2 x 23 = 46\n",
      "3 x 23 = 69\n",
      "4 x 23 = 92\n",
      "5 x 23 = 115\n",
      "6 x 23 = 138\n",
      "7 x 23 = 161\n",
      "8 x 23 = 184\n",
      "9 x 23 = 207\n",
      "10 x 23 = 230\n"
     ]
    }
   ],
   "source": [
    "N = 0\n",
    "while N <=2 or N >=1000:\n",
    "    N = int(input())\n",
    "for n in range(0, 11, 1):\n",
    "    print(f\"{n} x {N} = {n*N}\")"
   ]
  },
  {
   "attachments": {},
   "cell_type": "markdown",
   "metadata": {},
   "source": [
    "6"
   ]
  },
  {
   "cell_type": "code",
   "execution_count": 1,
   "metadata": {},
   "outputs": [
    {
     "name": "stdout",
     "output_type": "stream",
     "text": [
      "3 centenas simples = 300 \n",
      " 4 dezenas simples = 40 \n",
      " 5 unidade simples = 5\n"
     ]
    }
   ],
   "source": [
    "num = int(input())\n",
    "\n",
    "while 99 < num < 1000: \n",
    "    \n",
    "    print(f\"{num//100} centenas simples = {(num//100)*100} \\n{(num//10)%10} dezenas simples = {((num//10)%10)*10} \\n{num%10} unidade simples = {num%10}\")\n",
    "    num = int(input())"
   ]
  },
  {
   "attachments": {},
   "cell_type": "markdown",
   "metadata": {},
   "source": [
    "7"
   ]
  },
  {
   "cell_type": "code",
   "execution_count": 2,
   "metadata": {},
   "outputs": [
    {
     "name": "stdout",
     "output_type": "stream",
     "text": [
      "37\n",
      "238\n",
      "48\n",
      "quantidade de números digitados: 8 \n",
      " quantidade de somas realizadas 4\n"
     ]
    }
   ],
   "source": [
    "x = int(input())\n",
    "y = int(input())\n",
    "soma = 0\n",
    "quant = 0\n",
    "nums = 0\n",
    "while x != 0 and y != 0:\n",
    "    soma = x+y\n",
    "    nums += 2\n",
    "    quant +=1\n",
    "    print(soma)\n",
    "    x = int(input())\n",
    "    y = int(input())\n",
    "print(f\"quantidade de números digitados: {nums} \\nquantidade de somas realizadas {quant}\")"
   ]
  },
  {
   "attachments": {},
   "cell_type": "markdown",
   "metadata": {},
   "source": [
    "8\n"
   ]
  },
  {
   "cell_type": "code",
   "execution_count": 7,
   "metadata": {},
   "outputs": [
    {
     "name": "stdout",
     "output_type": "stream",
     "text": [
      "número de masculinos 48\n",
      "média das atletas femininas\n",
      "número de adolecentes 3\n",
      "número de adultos acima do peso pena 47\n",
      "maior idade e sexo 97 M | menor idade e sexo 10 M\n"
     ]
    }
   ],
   "source": [
    "cont = 0\n",
    "peso = 0\n",
    "numm = 0\n",
    "numf = 0\n",
    "spesof = 0\n",
    "adole = 0\n",
    "caracespe = 0\n",
    "menorid = 80\n",
    "maiorid = 0\n",
    "sexomenorid = \"\"\n",
    "sexomaiorid = \"\"\n",
    "\n",
    "while cont < 80:\n",
    "    cont+=1\n",
    "    sexo = input(\"Sexo (M ou F): \")\n",
    "    if sexo == \"M\":\n",
    "        numm+=1\n",
    "    peso = float(input(\"Peso: \"))\n",
    "    if sexo == \"F\":\n",
    "        numf +=1\n",
    "        spesof += peso\n",
    "    idade = int(input(\"Idade: \"))\n",
    "    if 15 < idade < 18:\n",
    "        adole+=1\n",
    "    altura = float(input(\"Altura: \"))\n",
    "    if idade > 18 and peso > 65 and altura > 1.65:\n",
    "        caracespe+=1\n",
    "    if idade < menorid:\n",
    "        menorid = idade\n",
    "        sexomenorid = sexo\n",
    "    if idade > maiorid:\n",
    "        maiorid = idade\n",
    "        sexomaiorid = sexo\n",
    "print(f\"número de masculinos {numm}\\nmédia das atletas femininas\\nnúmero de adolecentes {adole}\\nnúmero de adultos acima do peso pena {caracespe}\\nmaior idade e sexo {maiorid} {sexomaiorid} | menor idade e sexo {menorid} {sexomenorid}\")\n",
    "    "
   ]
  },
  {
   "attachments": {},
   "cell_type": "markdown",
   "metadata": {},
   "source": [
    "9"
   ]
  },
  {
   "cell_type": "code",
   "execution_count": 11,
   "metadata": {},
   "outputs": [
    {
     "name": "stdout",
     "output_type": "stream",
     "text": [
      "23\n",
      "17\n",
      "63.45\n",
      "9\n",
      "3\n",
      "13\n",
      "74\n"
     ]
    }
   ],
   "source": [
    "cod = input(\"Código do funcionario (ZERO para finalizar): \")\n",
    "quantf = quantm = somaidademcomExp = quantmcomExp = mmaiorde45 = fmenor35cExp = maioridmsemExp = 0\n",
    "menoridfcomExp = 200\n",
    "while cod != \"ZERO\":\n",
    "    idade = int(input(\"Idade em anos: \"))\n",
    "    sexo = input(\"Sexo (M ou F): \")\n",
    "    exp = input(\"Experiência no serviço (S ou N): \")\n",
    "    if sexo==\"F\":\n",
    "        quantf+=1\n",
    "        if exp == \"S\" and idade < 35:\n",
    "            fmenor35cExp += 1\n",
    "        if idade < menoridfcomExp and exp == \"S\":\n",
    "            menoridfcomExp = idade\n",
    "    elif sexo==\"M\":\n",
    "        quantm+=1\n",
    "        if exp == \"S\":\n",
    "            somaidademcomExp+=idade\n",
    "            quantmcomExp+=1\n",
    "        elif maioridmsemExp < idade:\n",
    "            maioridmsemExp = idade\n",
    "        if idade > 45:\n",
    "            mmaiorde45+=1\n",
    "\n",
    "    cod = input(\"Código do funcionario (ZERO para finalizar): \")\n",
    "\n",
    "print(f\"{quantf}\\n{quantm}\\n{somaidademcomExp/quantmcomExp:.2f}\\n{mmaiorde45}\\n{fmenor35cExp}\\n{menoridfcomExp}\\n{maioridmsemExp}\")"
   ]
  },
  {
   "attachments": {},
   "cell_type": "markdown",
   "metadata": {},
   "source": [
    "10"
   ]
  },
  {
   "cell_type": "code",
   "execution_count": 15,
   "metadata": {},
   "outputs": [
    {
     "name": "stdout",
     "output_type": "stream",
     "text": [
      "R\n",
      "46.45\n",
      "55.79\n"
     ]
    }
   ],
   "source": [
    "cordmoramalt = \"\"\n",
    "malt = 0\n",
    "altmompes = pesomompes = 0.00\n",
    "somaaltruieloi = quantruieloi = 0\n",
    "for n in range(0, 50):\n",
    "    alt = float(input(\"Altura: \"))\n",
    "    peso = float(input(\"Peso: \"))\n",
    "    corcabelo = input(\"Cor do cabelo (L para loiro, P para preto, C para Castanho e R para ruivo): \")\n",
    "    if alt > malt:\n",
    "        malt = alt\n",
    "        cordmoramalt = corcabelo\n",
    "    if peso > pesomompes:\n",
    "        pesomompes = peso\n",
    "        altmompes = alt\n",
    "    if corcabelo == \"L\" or corcabelo == \"R\":\n",
    "        somaaltruieloi+=alt\n",
    "        quantruieloi+=1\n",
    "print(f\"{cordmoramalt}\\n{altmompes:.2f}\\n{somaaltruieloi/quantruieloi:.2f}\")"
   ]
  },
  {
   "cell_type": "code",
   "execution_count": null,
   "metadata": {},
   "outputs": [],
   "source": []
  }
 ],
 "metadata": {
  "kernelspec": {
   "display_name": "base",
   "language": "python",
   "name": "python3"
  },
  "language_info": {
   "codemirror_mode": {
    "name": "ipython",
    "version": 3
   },
   "file_extension": ".py",
   "mimetype": "text/x-python",
   "name": "python",
   "nbconvert_exporter": "python",
   "pygments_lexer": "ipython3",
   "version": "3.10.9"
  },
  "orig_nbformat": 4
 },
 "nbformat": 4,
 "nbformat_minor": 2
}
