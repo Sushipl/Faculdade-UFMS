{
 "cells": [
  {
   "cell_type": "code",
   "execution_count": 3,
   "metadata": {},
   "outputs": [
    {
     "name": "stdout",
     "output_type": "stream",
     "text": [
      "<class 'type'> 12.4\n"
     ]
    }
   ],
   "source": [
    "num = float(input(\"dígite seu peso\"))\n",
    "print(type(num), num)"
   ]
  },
  {
   "cell_type": "code",
   "execution_count": 3,
   "metadata": {},
   "outputs": [
    {
     "name": "stdout",
     "output_type": "stream",
     "text": [
      "dígite corretamente!\n",
      "dígite corretamente!\n",
      "0.0\n"
     ]
    }
   ],
   "source": [
    "\n",
    "while True:\n",
    "    num = input('Digite um número inteiro')\n",
    "    try:\n",
    "        num = float(num)\n",
    "    except:\n",
    "        print('dígite corretamente!')\n",
    "    else:\n",
    "        print(num)\n",
    "        break\n",
    "    \n"
   ]
  },
  {
   "cell_type": "code",
   "execution_count": null,
   "metadata": {},
   "outputs": [],
   "source": []
  }
 ],
 "metadata": {
  "kernelspec": {
   "display_name": "Python 3",
   "language": "python",
   "name": "python3"
  },
  "language_info": {
   "codemirror_mode": {
    "name": "ipython",
    "version": 3
   },
   "file_extension": ".py",
   "mimetype": "text/x-python",
   "name": "python",
   "nbconvert_exporter": "python",
   "pygments_lexer": "ipython3",
   "version": "3.10.6"
  },
  "orig_nbformat": 4
 },
 "nbformat": 4,
 "nbformat_minor": 2
}
