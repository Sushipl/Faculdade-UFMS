{
 "cells": [
  {
   "cell_type": "code",
   "execution_count": 1,
   "metadata": {},
   "outputs": [],
   "source": [
    "import pyautogui as py\n",
    "import json\n",
    "import time\n"
   ]
  },
  {
   "cell_type": "code",
   "execution_count": 2,
   "metadata": {},
   "outputs": [],
   "source": [
    "with open(\"./desafios_da_professora/dataterceiroexercicio8.json\", encoding='utf-8') as meu_json:\n",
    "    dados = json.load(meu_json)\n",
    "\n",
    "time.sleep(5)\n",
    "for pessoa in dados:\n",
    "    time.sleep(0.1)\n",
    "    py.typewrite(pessoa[\"Sexo\"])\n",
    "    py.press(\"enter\")\n",
    "    time.sleep(0.1)\n",
    "    py.typewrite(str(pessoa[\"Peso\"]))\n",
    "    py.press(\"enter\")\n",
    "    time.sleep(0.1)\n",
    "    py.typewrite(str(pessoa[\"Idade\"]))\n",
    "    py.press(\"enter\")\n",
    "    time.sleep(0.1)\n",
    "    py.typewrite(str(pessoa[\"Altura\"]))\n",
    "    py.press(\"enter\")"
   ]
  },
  {
   "cell_type": "code",
   "execution_count": 3,
   "metadata": {},
   "outputs": [],
   "source": [
    "with open(\"./desafios_da_professora/dataterceiroexercicio9.json\", encoding='utf-8') as meu_json:\n",
    "    dados = json.load(meu_json)\n",
    "\n",
    "time.sleep(5)\n",
    "for pessoa in dados:\n",
    "    time.sleep(0.1)\n",
    "    py.typewrite(\"A\")\n",
    "    py.press(\"enter\")\n",
    "    time.sleep(0.1)\n",
    "    py.typewrite(str(pessoa[\"Idade\"]))\n",
    "    py.press(\"enter\")\n",
    "    time.sleep(0.1)\n",
    "    py.typewrite(pessoa[\"Sexo\"])\n",
    "    py.press(\"enter\")\n",
    "    time.sleep(0.1)\n",
    "    py.typewrite(str(pessoa[\"Exp\"]))\n",
    "    py.press(\"enter\")"
   ]
  },
  {
   "cell_type": "code",
   "execution_count": 5,
   "metadata": {},
   "outputs": [],
   "source": [
    "with open(\"./desafios_da_professora/dataterceiroexercicio10.json\", encoding='utf-8') as meu_json:\n",
    "    dados = json.load(meu_json)\n",
    "\n",
    "time.sleep(5)\n",
    "for pessoa in dados:\n",
    "    time.sleep(0.1)\n",
    "    py.typewrite(str(pessoa[\"Idade\"]))\n",
    "    py.press(\"enter\")\n",
    "    time.sleep(0.1)\n",
    "    py.typewrite(str(pessoa[\"Altura\"]))\n",
    "    py.press(\"enter\")\n",
    "    time.sleep(0.1)\n",
    "    py.typewrite(str(pessoa[\"CorCabelo\"]))\n",
    "    py.press(\"enter\")"
   ]
  },
  {
   "cell_type": "code",
   "execution_count": null,
   "metadata": {},
   "outputs": [],
   "source": []
  }
 ],
 "metadata": {
  "kernelspec": {
   "display_name": "base",
   "language": "python",
   "name": "python3"
  },
  "language_info": {
   "codemirror_mode": {
    "name": "ipython",
    "version": 3
   },
   "file_extension": ".py",
   "mimetype": "text/x-python",
   "name": "python",
   "nbconvert_exporter": "python",
   "pygments_lexer": "ipython3",
   "version": "3.10.9"
  },
  "orig_nbformat": 4
 },
 "nbformat": 4,
 "nbformat_minor": 2
}
