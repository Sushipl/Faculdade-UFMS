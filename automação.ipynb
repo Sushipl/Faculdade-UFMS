{
 "cells": [
  {
   "cell_type": "code",
   "execution_count": 2,
   "metadata": {},
   "outputs": [],
   "source": [
    "import pyautogui as py\n",
    "import json\n",
    "import time\n"
   ]
  },
  {
   "cell_type": "code",
   "execution_count": 2,
   "metadata": {},
   "outputs": [],
   "source": [
    "with open(\"./desafios_da_professora/dataterceiroexercicio8.json\", encoding='utf-8') as meu_json:\n",
    "    dados = json.load(meu_json)\n",
    "\n",
    "time.sleep(5)\n",
    "for pessoa in dados:\n",
    "    time.sleep(0.1)\n",
    "    py.typewrite(pessoa[\"Sexo\"])\n",
    "    py.press(\"enter\")\n",
    "    time.sleep(0.1)\n",
    "    py.typewrite(str(pessoa[\"Peso\"]))\n",
    "    py.press(\"enter\")\n",
    "    time.sleep(0.1)\n",
    "    py.typewrite(str(pessoa[\"Idade\"]))\n",
    "    py.press(\"enter\")\n",
    "    time.sleep(0.1)\n",
    "    py.typewrite(str(pessoa[\"Altura\"]))\n",
    "    py.press(\"enter\")"
   ]
  },
  {
   "cell_type": "code",
   "execution_count": 3,
   "metadata": {},
   "outputs": [],
   "source": [
    "with open(\"./desafios_da_professora/dataterceiroexercicio9.json\", encoding='utf-8') as meu_json:\n",
    "    dados = json.load(meu_json)\n",
    "\n",
    "time.sleep(5)\n",
    "for pessoa in dados:\n",
    "    time.sleep(0.1)\n",
    "    py.typewrite(\"A\")\n",
    "    py.press(\"enter\")\n",
    "    time.sleep(0.1)\n",
    "    py.typewrite(str(pessoa[\"Idade\"]))\n",
    "    py.press(\"enter\")\n",
    "    time.sleep(0.1)\n",
    "    py.typewrite(pessoa[\"Sexo\"])\n",
    "    py.press(\"enter\")\n",
    "    time.sleep(0.1)\n",
    "    py.typewrite(str(pessoa[\"Exp\"]))\n",
    "    py.press(\"enter\")"
   ]
  },
  {
   "cell_type": "code",
   "execution_count": 3,
   "metadata": {},
   "outputs": [],
   "source": [
    "with open(\"./desafios_da_professora/dataterceiroexercicio10.json\", encoding='utf-8') as meu_json:\n",
    "    dados = json.load(meu_json)\n",
    "\n",
    "time.sleep(5)\n",
    "for pessoa in dados:\n",
    "    time.sleep(0.1)\n",
    "    py.typewrite(str(pessoa[\"Idade\"]))\n",
    "    py.press(\"enter\")\n",
    "    time.sleep(0.1)\n",
    "    py.typewrite(str(pessoa[\"Altura\"]))\n",
    "    py.press(\"enter\")\n",
    "    time.sleep(0.1)\n",
    "    py.typewrite(str(pessoa[\"CorCabelo\"]))\n",
    "    py.press(\"enter\")"
   ]
  },
  {
   "cell_type": "code",
   "execution_count": 6,
   "metadata": {},
   "outputs": [],
   "source": [
    "with open(\"./desafios_da_professora/data.json\", encoding='utf-8') as meu_json:\n",
    "    dados = json.load(meu_json)\n",
    "\n",
    "time.sleep(5)\n",
    "for pessoa in dados:\n",
    "    time.sleep(0.1)\n",
    "    py.typewrite(str(pessoa))\n",
    "    py.press(\"enter\")"
   ]
  },
  {
   "cell_type": "code",
   "execution_count": null,
   "metadata": {},
   "outputs": [],
   "source": []
  }
 ],
 "metadata": {
  "kernelspec": {
   "display_name": "Python 3",
   "language": "python",
   "name": "python3"
  },
  "language_info": {
   "codemirror_mode": {
    "name": "ipython",
    "version": 3
   },
   "file_extension": ".py",
   "mimetype": "text/x-python",
   "name": "python",
   "nbconvert_exporter": "python",
   "pygments_lexer": "ipython3",
   "version": "3.10.6"
  },
  "orig_nbformat": 4,
  "vscode": {
   "interpreter": {
    "hash": "3763ad9f89648d847e6f5401e1219410b4a0054c5a073f5da0c68452446768ec"
   }
  }
 },
 "nbformat": 4,
 "nbformat_minor": 2
}
