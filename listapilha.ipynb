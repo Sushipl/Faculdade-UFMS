{
 "cells": [
  {
   "cell_type": "markdown",
   "metadata": {},
   "source": [
    "1a."
   ]
  },
  {
   "cell_type": "markdown",
   "metadata": {},
   "source": [
    "Na primeira sim, na segunda não"
   ]
  },
  {
   "cell_type": "markdown",
   "metadata": {},
   "source": [
    "1b."
   ]
  },
  {
   "cell_type": "markdown",
   "metadata": {},
   "source": [
    "IIIRRIIRIRRR"
   ]
  },
  {
   "cell_type": "markdown",
   "metadata": {},
   "source": [
    "IRIIIIRRIR NÃO POSSIVEL"
   ]
  },
  {
   "cell_type": "markdown",
   "metadata": {},
   "source": [
    "1c."
   ]
  },
  {
   "cell_type": "markdown",
   "metadata": {},
   "source": [
    "se a quantidade de retiradas é igual a de inserção"
   ]
  },
  {
   "cell_type": "markdown",
   "metadata": {},
   "source": [
    "5."
   ]
  },
  {
   "cell_type": "code",
   "execution_count": 9,
   "metadata": {},
   "outputs": [
    {
     "name": "stdout",
     "output_type": "stream",
     "text": [
      "incorreto\n"
     ]
    }
   ],
   "source": [
    "p = []\n",
    "inp = input()\n",
    "for letra in inp:\n",
    "    if letra == \"(\" or letra ==\")\":\n",
    "        p.append(letra)\n",
    "\n",
    "certo = True\n",
    "abre = 0\n",
    "for i in p:\n",
    "\n",
    "    if i == \"(\":\n",
    "        abre+=1\n",
    "    elif i == \")\":\n",
    "        abre-=1\n",
    "    if abre < 0:\n",
    "        certo = False\n",
    "if abre != 0:\n",
    "    certo = False\n",
    "if certo:\n",
    "    print(\"correto\")\n",
    "else:\n",
    "    print(\"incorreto\")"
   ]
  },
  {
   "cell_type": "markdown",
   "metadata": {},
   "source": [
    "6."
   ]
  },
  {
   "cell_type": "code",
   "execution_count": 15,
   "metadata": {},
   "outputs": [
    {
     "name": "stdout",
     "output_type": "stream",
     "text": [
      "reter\n",
      "['r', 'e']\n"
     ]
    }
   ],
   "source": [
    "palavra = input()\n",
    "certo = True\n",
    "p = []\n",
    "for i in range(len(palavra)//2):\n",
    "    p.append(palavra[i])\n",
    "print(palavra)\n",
    "print(p)"
   ]
  }
 ],
 "metadata": {
  "kernelspec": {
   "display_name": "Python 3",
   "language": "python",
   "name": "python3"
  },
  "language_info": {
   "codemirror_mode": {
    "name": "ipython",
    "version": 3
   },
   "file_extension": ".py",
   "mimetype": "text/x-python",
   "name": "python",
   "nbconvert_exporter": "python",
   "pygments_lexer": "ipython3",
   "version": "3.10.6"
  },
  "orig_nbformat": 4
 },
 "nbformat": 4,
 "nbformat_minor": 2
}
